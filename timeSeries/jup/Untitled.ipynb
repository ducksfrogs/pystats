{
 "cells": [
  {
   "cell_type": "code",
   "execution_count": 1,
   "metadata": {},
   "outputs": [
    {
     "name": "stderr",
     "output_type": "stream",
     "text": [
      "/home/ma/.bin/anaconda3/envs/kaggle/lib/python3.7/importlib/_bootstrap.py:219: RuntimeWarning: numpy.ufunc size changed, may indicate binary incompatibility. Expected 192 from C header, got 216 from PyObject\n",
      "  return f(*args, **kwds)\n"
     ]
    }
   ],
   "source": [
    "import pandas as pd\n",
    "import numpy as np\n",
    "import matplotlib.pyplot as plt"
   ]
  },
  {
   "cell_type": "code",
   "execution_count": 2,
   "metadata": {},
   "outputs": [],
   "source": [
    "data = pd.read_csv('../code/momo.csv')"
   ]
  },
  {
   "cell_type": "code",
   "execution_count": 3,
   "metadata": {},
   "outputs": [
    {
     "data": {
      "text/html": [
       "<div>\n",
       "<style scoped>\n",
       "    .dataframe tbody tr th:only-of-type {\n",
       "        vertical-align: middle;\n",
       "    }\n",
       "\n",
       "    .dataframe tbody tr th {\n",
       "        vertical-align: top;\n",
       "    }\n",
       "\n",
       "    .dataframe thead th {\n",
       "        text-align: right;\n",
       "    }\n",
       "</style>\n",
       "<table border=\"1\" class=\"dataframe\">\n",
       "  <thead>\n",
       "    <tr style=\"text-align: right;\">\n",
       "      <th></th>\n",
       "      <th>Unnamed: 0</th>\n",
       "      <th>米ドル</th>\n",
       "      <th>英ポンド</th>\n",
       "      <th>ユーロ</th>\n",
       "      <th>カナダドル</th>\n",
       "      <th>スイスフラン</th>\n",
       "      <th>スウェーデンクローネ</th>\n",
       "      <th>デンマーククローネ</th>\n",
       "      <th>ノルウェークローネ</th>\n",
       "      <th>オーストラリアドル</th>\n",
       "      <th>...</th>\n",
       "      <th>ハンガリーフォリント</th>\n",
       "      <th>チェココロナ</th>\n",
       "      <th>ポーランドズロチ</th>\n",
       "      <th>ロシアルーブル</th>\n",
       "      <th>トルコリラ</th>\n",
       "      <th>インドネシアルピア.1</th>\n",
       "      <th>中国人民元.1</th>\n",
       "      <th>マレーシアリンギ.1</th>\n",
       "      <th>韓国ウォン.1</th>\n",
       "      <th>台湾ドル</th>\n",
       "    </tr>\n",
       "  </thead>\n",
       "  <tbody>\n",
       "    <tr>\n",
       "      <th>0</th>\n",
       "      <td>NaN</td>\n",
       "      <td>USD</td>\n",
       "      <td>GBP</td>\n",
       "      <td>EUR</td>\n",
       "      <td>CAD</td>\n",
       "      <td>CHF</td>\n",
       "      <td>SEK</td>\n",
       "      <td>DKK</td>\n",
       "      <td>NOK</td>\n",
       "      <td>AUD</td>\n",
       "      <td>...</td>\n",
       "      <td>HUF</td>\n",
       "      <td>CZK</td>\n",
       "      <td>PLN</td>\n",
       "      <td>RUB</td>\n",
       "      <td>TRY</td>\n",
       "      <td>IDR(100)</td>\n",
       "      <td>CNY</td>\n",
       "      <td>MYR</td>\n",
       "      <td>KRW(100)</td>\n",
       "      <td>TWD</td>\n",
       "    </tr>\n",
       "    <tr>\n",
       "      <th>1</th>\n",
       "      <td>2002/4/30</td>\n",
       "      <td>131.15</td>\n",
       "      <td>189.01</td>\n",
       "      <td>115.97</td>\n",
       "      <td>82.83</td>\n",
       "      <td>79.13</td>\n",
       "      <td>12.73</td>\n",
       "      <td>15.61</td>\n",
       "      <td>15.2</td>\n",
       "      <td>70.24</td>\n",
       "      <td>...</td>\n",
       "      <td>*****</td>\n",
       "      <td>*****</td>\n",
       "      <td>*****</td>\n",
       "      <td>NaN</td>\n",
       "      <td>NaN</td>\n",
       "      <td>1.39</td>\n",
       "      <td>15.84</td>\n",
       "      <td>*****</td>\n",
       "      <td>9.99</td>\n",
       "      <td>3.77</td>\n",
       "    </tr>\n",
       "    <tr>\n",
       "      <th>2</th>\n",
       "      <td>2002/5/31</td>\n",
       "      <td>126.44</td>\n",
       "      <td>184.56</td>\n",
       "      <td>115.88</td>\n",
       "      <td>81.58</td>\n",
       "      <td>79.6</td>\n",
       "      <td>12.57</td>\n",
       "      <td>15.59</td>\n",
       "      <td>15.43</td>\n",
       "      <td>69.58</td>\n",
       "      <td>...</td>\n",
       "      <td>*****</td>\n",
       "      <td>*****</td>\n",
       "      <td>*****</td>\n",
       "      <td>NaN</td>\n",
       "      <td>NaN</td>\n",
       "      <td>1.41</td>\n",
       "      <td>15.28</td>\n",
       "      <td>*****</td>\n",
       "      <td>10.1</td>\n",
       "      <td>3.68</td>\n",
       "    </tr>\n",
       "    <tr>\n",
       "      <th>3</th>\n",
       "      <td>2002/6/28</td>\n",
       "      <td>123.53</td>\n",
       "      <td>183</td>\n",
       "      <td>117.83</td>\n",
       "      <td>80.64</td>\n",
       "      <td>80.09</td>\n",
       "      <td>12.94</td>\n",
       "      <td>15.86</td>\n",
       "      <td>15.92</td>\n",
       "      <td>70.29</td>\n",
       "      <td>...</td>\n",
       "      <td>*****</td>\n",
       "      <td>*****</td>\n",
       "      <td>*****</td>\n",
       "      <td>NaN</td>\n",
       "      <td>NaN</td>\n",
       "      <td>1.44</td>\n",
       "      <td>14.93</td>\n",
       "      <td>*****</td>\n",
       "      <td>10.2</td>\n",
       "      <td>3.66</td>\n",
       "    </tr>\n",
       "    <tr>\n",
       "      <th>4</th>\n",
       "      <td>2002/7/31</td>\n",
       "      <td>118.05</td>\n",
       "      <td>183.64</td>\n",
       "      <td>117.23</td>\n",
       "      <td>76.52</td>\n",
       "      <td>80.16</td>\n",
       "      <td>12.67</td>\n",
       "      <td>15.79</td>\n",
       "      <td>15.83</td>\n",
       "      <td>65.42</td>\n",
       "      <td>...</td>\n",
       "      <td>*****</td>\n",
       "      <td>*****</td>\n",
       "      <td>*****</td>\n",
       "      <td>NaN</td>\n",
       "      <td>NaN</td>\n",
       "      <td>1.34</td>\n",
       "      <td>14.26</td>\n",
       "      <td>*****</td>\n",
       "      <td>9.98</td>\n",
       "      <td>3.56</td>\n",
       "    </tr>\n",
       "  </tbody>\n",
       "</table>\n",
       "<p>5 rows × 37 columns</p>\n",
       "</div>"
      ],
      "text/plain": [
       "  Unnamed: 0     米ドル    英ポンド     ユーロ  カナダドル スイスフラン スウェーデンクローネ デンマーククローネ  \\\n",
       "0        NaN     USD     GBP     EUR    CAD    CHF        SEK       DKK   \n",
       "1  2002/4/30  131.15  189.01  115.97  82.83  79.13      12.73     15.61   \n",
       "2  2002/5/31  126.44  184.56  115.88  81.58   79.6      12.57     15.59   \n",
       "3  2002/6/28  123.53     183  117.83  80.64  80.09      12.94     15.86   \n",
       "4  2002/7/31  118.05  183.64  117.23  76.52  80.16      12.67     15.79   \n",
       "\n",
       "  ノルウェークローネ オーストラリアドル  ... ハンガリーフォリント チェココロナ ポーランドズロチ ロシアルーブル トルコリラ  \\\n",
       "0       NOK       AUD  ...        HUF    CZK      PLN     RUB   TRY   \n",
       "1      15.2     70.24  ...      *****  *****    *****     NaN   NaN   \n",
       "2     15.43     69.58  ...      *****  *****    *****     NaN   NaN   \n",
       "3     15.92     70.29  ...      *****  *****    *****     NaN   NaN   \n",
       "4     15.83     65.42  ...      *****  *****    *****     NaN   NaN   \n",
       "\n",
       "  インドネシアルピア.1 中国人民元.1 マレーシアリンギ.1   韓国ウォン.1  台湾ドル  \n",
       "0    IDR(100)     CNY        MYR  KRW(100)   TWD  \n",
       "1        1.39   15.84      *****      9.99  3.77  \n",
       "2        1.41   15.28      *****      10.1  3.68  \n",
       "3        1.44   14.93      *****      10.2  3.66  \n",
       "4        1.34   14.26      *****      9.98  3.56  \n",
       "\n",
       "[5 rows x 37 columns]"
      ]
     },
     "execution_count": 3,
     "metadata": {},
     "output_type": "execute_result"
    }
   ],
   "source": [
    "data.head()"
   ]
  },
  {
   "cell_type": "code",
   "execution_count": 4,
   "metadata": {},
   "outputs": [
    {
     "data": {
      "text/plain": [
       "(222, 37)"
      ]
     },
     "execution_count": 4,
     "metadata": {},
     "output_type": "execute_result"
    }
   ],
   "source": [
    "data.shape"
   ]
  },
  {
   "cell_type": "code",
   "execution_count": 5,
   "metadata": {},
   "outputs": [
    {
     "data": {
      "text/plain": [
       "Index(['Unnamed: 0', '米ドル', '英ポンド', 'ユーロ', 'カナダドル', 'スイスフラン', 'スウェーデンクローネ',\n",
       "       'デンマーククローネ', 'ノルウェークローネ', 'オーストラリアドル', 'ニュージーランドドル', '南アフリカランド',\n",
       "       'バーレーンディナール', 'インドネシアルピア', '中国人民元', '香港ドル', 'インドルピー', 'マレーシアリンギ',\n",
       "       'フィリピンペソ', 'シンガポールドル', '韓国ウォン', 'タイバーツ', 'クウェートディナール', 'サウジアラビアリアル',\n",
       "       'UAEディルハム', 'メキシコペソ', 'パプアニューギニアキナ', 'ハンガリーフォリント', 'チェココロナ', 'ポーランドズロチ',\n",
       "       'ロシアルーブル', 'トルコリラ', 'インドネシアルピア.1', '中国人民元.1', 'マレーシアリンギ.1', '韓国ウォン.1',\n",
       "       '台湾ドル'],\n",
       "      dtype='object')"
      ]
     },
     "execution_count": 5,
     "metadata": {},
     "output_type": "execute_result"
    }
   ],
   "source": [
    "data.columns"
   ]
  },
  {
   "cell_type": "code",
   "execution_count": null,
   "metadata": {},
   "outputs": [],
   "source": []
  }
 ],
 "metadata": {
  "kernelspec": {
   "display_name": "Python 3",
   "language": "python",
   "name": "python3"
  },
  "language_info": {
   "codemirror_mode": {
    "name": "ipython",
    "version": 3
   },
   "file_extension": ".py",
   "mimetype": "text/x-python",
   "name": "python",
   "nbconvert_exporter": "python",
   "pygments_lexer": "ipython3",
   "version": "3.8.5"
  }
 },
 "nbformat": 4,
 "nbformat_minor": 4
}
