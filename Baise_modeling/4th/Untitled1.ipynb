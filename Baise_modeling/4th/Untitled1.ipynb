{
 "cells": [
  {
   "cell_type": "code",
   "execution_count": 1,
   "metadata": {},
   "outputs": [],
   "source": [
    "import pymc3 as pm\n",
    "import numpy as np\n",
    "import pandas as pd\n",
    "import matplotlib.pyplot as plt\n",
    "import scipy.stats as stats\n",
    "import seaborn as sns\n",
    "plt.style.use('seaborn-darkgrid')\n",
    "np.set_printoptions(precision=2)\n",
    "pd.set_option('display.precision', 2)\n",
    "\n"
   ]
  },
  {
   "cell_type": "code",
   "execution_count": 2,
   "metadata": {},
   "outputs": [],
   "source": [
    "N = 100"
   ]
  },
  {
   "cell_type": "code",
   "execution_count": 3,
   "metadata": {},
   "outputs": [],
   "source": [
    "alpha_real = 2.5\n",
    "beta_real = 0.9\n",
    "eps_real = np.random.normal(0, 0.5, size=N)\n",
    "\n",
    "x = np.random.normal(10, 1, N)\n",
    "y_real = alpha_real + beta_real * x\n",
    "y = y_real + eps_real\n"
   ]
  },
  {
   "cell_type": "code",
   "execution_count": 4,
   "metadata": {},
   "outputs": [
    {
     "data": {
      "text/plain": [
       "array([ 8.89, 10.82,  9.93,  9.51,  9.49,  9.1 , 10.23, 10.92,  9.91,\n",
       "       10.77, 10.61, 10.87, 11.38, 10.04, 11.02,  9.74,  9.9 ,  8.73,\n",
       "        9.32, 10.96, 10.02,  9.36, 10.66, 10.51,  9.24, 10.53,  9.58,\n",
       "       10.42, 10.33, 10.27,  9.04,  8.89, 10.2 , 10.35,  8.96,  9.79,\n",
       "       10.37, 11.35, 10.66,  9.8 , 10.4 , 11.26,  9.15,  8.69,  9.29,\n",
       "        9.98, 11.42, 10.69, 11.02,  9.72, 11.8 ,  9.56, 10.91,  7.96,\n",
       "       11.38, 11.34,  9.86, 12.34,  9.24, 10.02,  9.02, 10.01,  9.14,\n",
       "       11.33,  8.27, 10.41, 10.15,  9.13, 10.21,  9.91,  9.17,  9.83,\n",
       "        7.39, 10.72,  9.25,  8.15,  8.88, 10.28, 11.19, 10.  , 10.23,\n",
       "        9.5 , 10.  , 11.49, 10.43,  9.24, 10.92,  8.83, 11.44, 10.05,\n",
       "        8.71,  8.92, 10.88, 10.94,  7.79, 10.14, 10.94, 11.34, 10.33,\n",
       "        9.73])"
      ]
     },
     "execution_count": 4,
     "metadata": {},
     "output_type": "execute_result"
    }
   ],
   "source": [
    "x"
   ]
  },
  {
   "cell_type": "code",
   "execution_count": 5,
   "metadata": {},
   "outputs": [
    {
     "data": {
      "text/plain": [
       "(array([ 2.,  3.,  4., 19., 12., 23., 14., 15.,  7.,  1.]),\n",
       " array([ 7.39,  7.89,  8.38,  8.88,  9.37,  9.87, 10.36, 10.85, 11.35,\n",
       "        11.84, 12.34]),\n",
       " <a list of 10 Patch objects>)"
      ]
     },
     "execution_count": 5,
     "metadata": {},
     "output_type": "execute_result"
    },
    {
     "data": {
      "image/png": "[encoded data removed]",
      "text/plain": [
       "<Figure size 432x288 with 1 Axes>"
      ]
     },
     "metadata": {},
     "output_type": "display_data"
    }
   ],
   "source": [
    "plt.hist(x)"
   ]
  },
  {
   "cell_type": "code",
   "execution_count": 6,
   "metadata": {},
   "outputs": [
    {
     "data": {
      "text/plain": [
       "(array([ 1.,  3.,  5., 12., 31., 17., 20.,  8.,  0.,  3.]),\n",
       " array([-1.66, -1.34, -1.02, -0.7 , -0.38, -0.06,  0.26,  0.58,  0.9 ,\n",
       "         1.22,  1.54]),\n",
       " <a list of 10 Patch objects>)"
      ]
     },
     "execution_count": 6,
     "metadata": {},
     "output_type": "execute_result"
    },
    {
     "data": {
      "image/png": "[encoded data removed]",
      "text/plain": [
       "<Figure size 432x288 with 1 Axes>"
      ]
     },
     "metadata": {},
     "output_type": "display_data"
    }
   ],
   "source": [
    "plt.hist(eps_real)"
   ]
  },
  {
   "cell_type": "code",
   "execution_count": null,
   "metadata": {},
   "outputs": [],
   "source": []
  },
  {
   "cell_type": "code",
   "execution_count": 7,
   "metadata": {},
   "outputs": [
    {
     "data": {
      "text/plain": [
       "array([ 9.63e-03,  6.52e-01, -2.70e-04,  4.61e-01,  5.43e-01,  5.44e-01,\n",
       "       -8.01e-02,  5.71e-01, -1.37e-01, -7.64e-01,  8.27e-01,  6.52e-01,\n",
       "       -8.02e-02,  8.74e-01, -6.30e-01, -2.27e-01, -4.01e-01, -8.39e-02,\n",
       "       -6.06e-02,  3.09e-01, -1.99e-01,  1.13e-01, -5.12e-01,  1.07e-01,\n",
       "        1.51e-01,  4.64e-01, -1.13e-01, -2.71e-01, -1.18e+00, -7.47e-01,\n",
       "        4.82e-01, -5.62e-01,  2.69e-02, -8.44e-01, -3.28e-01, -1.13e+00,\n",
       "       -2.75e-01, -4.99e-02, -1.31e-01,  6.80e-01,  1.84e-02, -1.13e+00,\n",
       "       -3.30e-01, -1.59e-01, -4.66e-01, -5.52e-01, -1.23e-01, -2.35e-01,\n",
       "       -1.93e-01, -9.32e-02, -5.87e-01,  4.24e-01,  1.54e+00, -5.88e-01,\n",
       "       -1.06e-01, -9.75e-02, -2.84e-01,  2.45e-01,  2.77e-01,  4.60e-01,\n",
       "       -3.40e-01, -7.61e-01, -4.53e-01, -7.19e-01,  5.00e-01,  1.28e+00,\n",
       "       -6.67e-02,  3.16e-01,  5.35e-02,  2.23e-01,  3.13e-01,  2.01e-01,\n",
       "        3.10e-01, -2.66e-01, -1.66e+00,  3.75e-01, -2.15e-01, -5.07e-02,\n",
       "        3.40e-01,  5.54e-01,  1.31e+00, -4.39e-01,  1.35e-02,  2.93e-01,\n",
       "       -2.59e-03,  8.52e-01,  4.49e-01,  2.44e-01,  7.41e-01, -3.35e-01,\n",
       "        3.81e-01, -1.19e-01, -2.90e-01, -2.50e-01, -6.35e-01,  2.17e-01,\n",
       "        7.16e-01, -5.71e-01, -3.27e-01, -1.82e-01])"
      ]
     },
     "execution_count": 7,
     "metadata": {},
     "output_type": "execute_result"
    }
   ],
   "source": [
    "eps_real"
   ]
  },
  {
   "cell_type": "code",
   "execution_count": 9,
   "metadata": {},
   "outputs": [
    {
     "data": {
      "text/plain": [
       "array([ 8.95, 10.88,  9.3 , 12.02, 10.03,  8.83,  8.77, 10.81,  9.59,\n",
       "       10.29])"
      ]
     },
     "execution_count": 9,
     "metadata": {},
     "output_type": "execute_result"
    }
   ],
   "source": [
    "np.random.normal(10, 1, 10)"
   ]
  },
  {
   "cell_type": "code",
   "execution_count": 10,
   "metadata": {},
   "outputs": [],
   "source": [
    "data = np.stack((x,y)).T"
   ]
  },
  {
   "cell_type": "code",
   "execution_count": 11,
   "metadata": {},
   "outputs": [
    {
     "data": {
      "text/plain": [
       "array([[10.6 , 12.05],\n",
       "       [11.52, 13.52],\n",
       "       [10.26, 11.74],\n",
       "       [10.84, 12.72],\n",
       "       [ 8.95, 11.1 ],\n",
       "       [ 9.79, 11.86],\n",
       "       [11.46, 12.73],\n",
       "       [ 9.39, 11.52],\n",
       "       [ 9.88, 11.26],\n",
       "       [ 9.02,  9.85],\n",
       "       [ 9.92, 12.26],\n",
       "       [10.59, 12.69],\n",
       "       [10.31, 11.7 ],\n",
       "       [10.59, 12.9 ],\n",
       "       [ 9.81, 10.7 ],\n",
       "       [ 9.61, 10.93],\n",
       "       [10.15, 11.24],\n",
       "       [10.56, 11.92],\n",
       "       [ 8.3 ,  9.91],\n",
       "       [10.86, 12.58],\n",
       "       [ 9.87, 11.18],\n",
       "       [ 9.38, 11.06],\n",
       "       [ 9.12, 10.2 ],\n",
       "       [ 8.82, 10.54],\n",
       "       [10.71, 12.29],\n",
       "       [ 9.08, 11.14],\n",
       "       [10.39, 11.74],\n",
       "       [10.4 , 11.59],\n",
       "       [ 9.93, 10.26],\n",
       "       [ 9.77, 10.55],\n",
       "       [ 9.64, 11.66],\n",
       "       [ 9.27, 10.28],\n",
       "       [ 8.83, 10.47],\n",
       "       [ 9.85, 10.53],\n",
       "       [10.96, 12.03],\n",
       "       [10.22, 10.57],\n",
       "       [10.62, 11.78],\n",
       "       [ 9.25, 10.77],\n",
       "       [11.9 , 13.08],\n",
       "       [11.3 , 13.35],\n",
       "       [11.84, 13.18],\n",
       "       [10.05, 10.41],\n",
       "       [ 8.78, 10.07],\n",
       "       [ 9.41, 10.81],\n",
       "       [ 9.57, 10.65],\n",
       "       [10.01, 10.95],\n",
       "       [ 9.12, 10.59],\n",
       "       [11.87, 12.95],\n",
       "       [ 9.64, 10.98],\n",
       "       [ 9.96, 11.37],\n",
       "       [ 8.83,  9.86],\n",
       "       [ 8.97, 11.  ],\n",
       "       [11.54, 14.43],\n",
       "       [10.72, 11.56],\n",
       "       [10.53, 11.87],\n",
       "       [10.86, 12.18],\n",
       "       [10.07, 11.28],\n",
       "       [11.27, 12.89],\n",
       "       [ 9.48, 11.31],\n",
       "       [10.87, 12.74],\n",
       "       [10.03, 11.19],\n",
       "       [ 9.61, 10.39],\n",
       "       [ 9.53, 10.63],\n",
       "       [10.18, 10.95],\n",
       "       [10.91, 12.82],\n",
       "       [10.29, 13.04],\n",
       "       [10.53, 11.91],\n",
       "       [11.11, 12.81],\n",
       "       [10.46, 11.96],\n",
       "       [10.31, 12.  ],\n",
       "       [ 9.89, 11.71],\n",
       "       [ 9.16, 10.95],\n",
       "       [ 9.25, 11.14],\n",
       "       [10.16, 11.38],\n",
       "       [ 7.66,  7.74],\n",
       "       [ 9.41, 11.34],\n",
       "       [11.21, 12.38],\n",
       "       [11.67, 12.95],\n",
       "       [ 9.32, 11.22],\n",
       "       [ 9.29, 11.41],\n",
       "       [10.56, 13.31],\n",
       "       [ 8.98, 10.15],\n",
       "       [ 9.8 , 11.33],\n",
       "       [11.31, 12.97],\n",
       "       [ 9.96, 11.47],\n",
       "       [10.98, 13.23],\n",
       "       [10.57, 12.46],\n",
       "       [ 9.22, 11.04],\n",
       "       [ 9.59, 11.88],\n",
       "       [ 9.88, 11.05],\n",
       "       [ 9.78, 11.68],\n",
       "       [10.6 , 11.92],\n",
       "       [10.66, 11.81],\n",
       "       [12.08, 13.12],\n",
       "       [10.9 , 11.68],\n",
       "       [ 9.32, 11.11],\n",
       "       [10.  , 12.21],\n",
       "       [10.08, 11.  ],\n",
       "       [ 8.64,  9.95],\n",
       "       [ 8.93, 10.35]])"
      ]
     },
     "execution_count": 11,
     "metadata": {},
     "output_type": "execute_result"
    }
   ],
   "source": [
    "data"
   ]
  },
  {
   "cell_type": "code",
   "execution_count": null,
   "metadata": {},
   "outputs": [],
   "source": []
  }
 ],
 "metadata": {
  "kernelspec": {
   "display_name": "Python 3",
   "language": "python",
   "name": "python3"
  },
  "language_info": {
   "codemirror_mode": {
    "name": "ipython",
    "version": 3
   },
   "file_extension": ".py",
   "mimetype": "text/x-python",
   "name": "python",
   "nbconvert_exporter": "python",
   "pygments_lexer": "ipython3",
   "version": "3.7.6"
  }
 },
 "nbformat": 4,
 "nbformat_minor": 4
}
