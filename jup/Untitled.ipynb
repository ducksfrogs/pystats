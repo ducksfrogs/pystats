{
 "cells": [
  {
   "cell_type": "code",
   "execution_count": 1,
   "id": "dirty-dakota",
   "metadata": {},
   "outputs": [],
   "source": [
    "import pandas as pd\n",
    "import pandas as pd\n",
    "import numpy as np\n",
    "import matplotlib.pyplot as plt\n",
    "import seaborn as sns\n"
   ]
  },
  {
   "cell_type": "code",
   "execution_count": 2,
   "id": "adapted-working",
   "metadata": {},
   "outputs": [],
   "source": [
    "data = pd.read_csv('http://www.jaredlander.com/data/housing.csv')\n"
   ]
  },
  {
   "cell_type": "code",
   "execution_count": 3,
   "id": "located-retro",
   "metadata": {},
   "outputs": [
    {
     "data": {
      "text/html": [
       "<div>\n",
       "<style scoped>\n",
       "    .dataframe tbody tr th:only-of-type {\n",
       "        vertical-align: middle;\n",
       "    }\n",
       "\n",
       "    .dataframe tbody tr th {\n",
       "        vertical-align: top;\n",
       "    }\n",
       "\n",
       "    .dataframe thead th {\n",
       "        text-align: right;\n",
       "    }\n",
       "</style>\n",
       "<table border=\"1\" class=\"dataframe\">\n",
       "  <thead>\n",
       "    <tr style=\"text-align: right;\">\n",
       "      <th></th>\n",
       "      <th>Neighborhood</th>\n",
       "      <th>Building.Classification</th>\n",
       "      <th>Total.Units</th>\n",
       "      <th>Year.Built</th>\n",
       "      <th>Gross.SqFt</th>\n",
       "      <th>Estimated.Gross.Income</th>\n",
       "      <th>Gross.Income.per.SqFt</th>\n",
       "      <th>Estimated.Expense</th>\n",
       "      <th>Expense.per.SqFt</th>\n",
       "      <th>Net.Operating.Income</th>\n",
       "      <th>Full.Market.Value</th>\n",
       "      <th>Market.Value.per.SqFt</th>\n",
       "      <th>Boro</th>\n",
       "    </tr>\n",
       "  </thead>\n",
       "  <tbody>\n",
       "    <tr>\n",
       "      <th>0</th>\n",
       "      <td>FINANCIAL</td>\n",
       "      <td>R9-CONDOMINIUM</td>\n",
       "      <td>42</td>\n",
       "      <td>1920.0</td>\n",
       "      <td>36500</td>\n",
       "      <td>1332615</td>\n",
       "      <td>36.51</td>\n",
       "      <td>342005</td>\n",
       "      <td>9.37</td>\n",
       "      <td>990610</td>\n",
       "      <td>7300000</td>\n",
       "      <td>200.00</td>\n",
       "      <td>Manhattan</td>\n",
       "    </tr>\n",
       "    <tr>\n",
       "      <th>1</th>\n",
       "      <td>FINANCIAL</td>\n",
       "      <td>R4-CONDOMINIUM</td>\n",
       "      <td>78</td>\n",
       "      <td>1985.0</td>\n",
       "      <td>126420</td>\n",
       "      <td>6633257</td>\n",
       "      <td>52.47</td>\n",
       "      <td>1762295</td>\n",
       "      <td>13.94</td>\n",
       "      <td>4870962</td>\n",
       "      <td>30690000</td>\n",
       "      <td>242.76</td>\n",
       "      <td>Manhattan</td>\n",
       "    </tr>\n",
       "    <tr>\n",
       "      <th>2</th>\n",
       "      <td>FINANCIAL</td>\n",
       "      <td>RR-CONDOMINIUM</td>\n",
       "      <td>500</td>\n",
       "      <td>NaN</td>\n",
       "      <td>554174</td>\n",
       "      <td>17310000</td>\n",
       "      <td>31.24</td>\n",
       "      <td>3543000</td>\n",
       "      <td>6.39</td>\n",
       "      <td>13767000</td>\n",
       "      <td>90970000</td>\n",
       "      <td>164.15</td>\n",
       "      <td>Manhattan</td>\n",
       "    </tr>\n",
       "    <tr>\n",
       "      <th>3</th>\n",
       "      <td>FINANCIAL</td>\n",
       "      <td>R4-CONDOMINIUM</td>\n",
       "      <td>282</td>\n",
       "      <td>1930.0</td>\n",
       "      <td>249076</td>\n",
       "      <td>11776313</td>\n",
       "      <td>47.28</td>\n",
       "      <td>2784670</td>\n",
       "      <td>11.18</td>\n",
       "      <td>8991643</td>\n",
       "      <td>67556006</td>\n",
       "      <td>271.23</td>\n",
       "      <td>Manhattan</td>\n",
       "    </tr>\n",
       "    <tr>\n",
       "      <th>4</th>\n",
       "      <td>TRIBECA</td>\n",
       "      <td>R4-CONDOMINIUM</td>\n",
       "      <td>239</td>\n",
       "      <td>1985.0</td>\n",
       "      <td>219495</td>\n",
       "      <td>10004582</td>\n",
       "      <td>45.58</td>\n",
       "      <td>2783197</td>\n",
       "      <td>12.68</td>\n",
       "      <td>7221385</td>\n",
       "      <td>54320996</td>\n",
       "      <td>247.48</td>\n",
       "      <td>Manhattan</td>\n",
       "    </tr>\n",
       "  </tbody>\n",
       "</table>\n",
       "</div>"
      ],
      "text/plain": [
       "  Neighborhood Building.Classification  Total.Units  Year.Built  Gross.SqFt  \\\n",
       "0    FINANCIAL          R9-CONDOMINIUM           42      1920.0       36500   \n",
       "1    FINANCIAL          R4-CONDOMINIUM           78      1985.0      126420   \n",
       "2    FINANCIAL          RR-CONDOMINIUM          500         NaN      554174   \n",
       "3    FINANCIAL          R4-CONDOMINIUM          282      1930.0      249076   \n",
       "4      TRIBECA          R4-CONDOMINIUM          239      1985.0      219495   \n",
       "\n",
       "   Estimated.Gross.Income  Gross.Income.per.SqFt  Estimated.Expense  \\\n",
       "0                 1332615                  36.51             342005   \n",
       "1                 6633257                  52.47            1762295   \n",
       "2                17310000                  31.24            3543000   \n",
       "3                11776313                  47.28            2784670   \n",
       "4                10004582                  45.58            2783197   \n",
       "\n",
       "   Expense.per.SqFt  Net.Operating.Income  Full.Market.Value  \\\n",
       "0              9.37                990610            7300000   \n",
       "1             13.94               4870962           30690000   \n",
       "2              6.39              13767000           90970000   \n",
       "3             11.18               8991643           67556006   \n",
       "4             12.68               7221385           54320996   \n",
       "\n",
       "   Market.Value.per.SqFt       Boro  \n",
       "0                 200.00  Manhattan  \n",
       "1                 242.76  Manhattan  \n",
       "2                 164.15  Manhattan  \n",
       "3                 271.23  Manhattan  \n",
       "4                 247.48  Manhattan  "
      ]
     },
     "execution_count": 3,
     "metadata": {},
     "output_type": "execute_result"
    }
   ],
   "source": [
    "data.head()"
   ]
  },
  {
   "cell_type": "code",
   "execution_count": 4,
   "id": "prime-dryer",
   "metadata": {},
   "outputs": [],
   "source": [
    "data.columns = [\"Neiborhood\", \"Class\", \"Units\",\"YearBuilt\", \"SqFt\", \"Income\", \"IncomeperSqFt\",\n",
    "                \"Expence\", \"ExpencePerSqFt\", \" NetIncome\", \"Value\", \"ValueperSqFt\",\"Boro\"]\n"
   ]
  },
  {
   "cell_type": "code",
   "execution_count": 5,
   "id": "apparent-broadcast",
   "metadata": {},
   "outputs": [
    {
     "data": {
      "text/html": [
       "<div>\n",
       "<style scoped>\n",
       "    .dataframe tbody tr th:only-of-type {\n",
       "        vertical-align: middle;\n",
       "    }\n",
       "\n",
       "    .dataframe tbody tr th {\n",
       "        vertical-align: top;\n",
       "    }\n",
       "\n",
       "    .dataframe thead th {\n",
       "        text-align: right;\n",
       "    }\n",
       "</style>\n",
       "<table border=\"1\" class=\"dataframe\">\n",
       "  <thead>\n",
       "    <tr style=\"text-align: right;\">\n",
       "      <th></th>\n",
       "      <th>Neiborhood</th>\n",
       "      <th>Class</th>\n",
       "      <th>Units</th>\n",
       "      <th>YearBuilt</th>\n",
       "      <th>SqFt</th>\n",
       "      <th>Income</th>\n",
       "      <th>IncomeperSqFt</th>\n",
       "      <th>Expence</th>\n",
       "      <th>ExpencePerSqFt</th>\n",
       "      <th>NetIncome</th>\n",
       "      <th>Value</th>\n",
       "      <th>ValueperSqFt</th>\n",
       "      <th>Boro</th>\n",
       "    </tr>\n",
       "  </thead>\n",
       "  <tbody>\n",
       "    <tr>\n",
       "      <th>0</th>\n",
       "      <td>FINANCIAL</td>\n",
       "      <td>R9-CONDOMINIUM</td>\n",
       "      <td>42</td>\n",
       "      <td>1920.0</td>\n",
       "      <td>36500</td>\n",
       "      <td>1332615</td>\n",
       "      <td>36.51</td>\n",
       "      <td>342005</td>\n",
       "      <td>9.37</td>\n",
       "      <td>990610</td>\n",
       "      <td>7300000</td>\n",
       "      <td>200.00</td>\n",
       "      <td>Manhattan</td>\n",
       "    </tr>\n",
       "    <tr>\n",
       "      <th>1</th>\n",
       "      <td>FINANCIAL</td>\n",
       "      <td>R4-CONDOMINIUM</td>\n",
       "      <td>78</td>\n",
       "      <td>1985.0</td>\n",
       "      <td>126420</td>\n",
       "      <td>6633257</td>\n",
       "      <td>52.47</td>\n",
       "      <td>1762295</td>\n",
       "      <td>13.94</td>\n",
       "      <td>4870962</td>\n",
       "      <td>30690000</td>\n",
       "      <td>242.76</td>\n",
       "      <td>Manhattan</td>\n",
       "    </tr>\n",
       "    <tr>\n",
       "      <th>2</th>\n",
       "      <td>FINANCIAL</td>\n",
       "      <td>RR-CONDOMINIUM</td>\n",
       "      <td>500</td>\n",
       "      <td>NaN</td>\n",
       "      <td>554174</td>\n",
       "      <td>17310000</td>\n",
       "      <td>31.24</td>\n",
       "      <td>3543000</td>\n",
       "      <td>6.39</td>\n",
       "      <td>13767000</td>\n",
       "      <td>90970000</td>\n",
       "      <td>164.15</td>\n",
       "      <td>Manhattan</td>\n",
       "    </tr>\n",
       "    <tr>\n",
       "      <th>3</th>\n",
       "      <td>FINANCIAL</td>\n",
       "      <td>R4-CONDOMINIUM</td>\n",
       "      <td>282</td>\n",
       "      <td>1930.0</td>\n",
       "      <td>249076</td>\n",
       "      <td>11776313</td>\n",
       "      <td>47.28</td>\n",
       "      <td>2784670</td>\n",
       "      <td>11.18</td>\n",
       "      <td>8991643</td>\n",
       "      <td>67556006</td>\n",
       "      <td>271.23</td>\n",
       "      <td>Manhattan</td>\n",
       "    </tr>\n",
       "    <tr>\n",
       "      <th>4</th>\n",
       "      <td>TRIBECA</td>\n",
       "      <td>R4-CONDOMINIUM</td>\n",
       "      <td>239</td>\n",
       "      <td>1985.0</td>\n",
       "      <td>219495</td>\n",
       "      <td>10004582</td>\n",
       "      <td>45.58</td>\n",
       "      <td>2783197</td>\n",
       "      <td>12.68</td>\n",
       "      <td>7221385</td>\n",
       "      <td>54320996</td>\n",
       "      <td>247.48</td>\n",
       "      <td>Manhattan</td>\n",
       "    </tr>\n",
       "  </tbody>\n",
       "</table>\n",
       "</div>"
      ],
      "text/plain": [
       "  Neiborhood           Class  Units  YearBuilt    SqFt    Income  \\\n",
       "0  FINANCIAL  R9-CONDOMINIUM     42     1920.0   36500   1332615   \n",
       "1  FINANCIAL  R4-CONDOMINIUM     78     1985.0  126420   6633257   \n",
       "2  FINANCIAL  RR-CONDOMINIUM    500        NaN  554174  17310000   \n",
       "3  FINANCIAL  R4-CONDOMINIUM    282     1930.0  249076  11776313   \n",
       "4    TRIBECA  R4-CONDOMINIUM    239     1985.0  219495  10004582   \n",
       "\n",
       "   IncomeperSqFt  Expence  ExpencePerSqFt   NetIncome     Value  ValueperSqFt  \\\n",
       "0          36.51   342005            9.37      990610   7300000        200.00   \n",
       "1          52.47  1762295           13.94     4870962  30690000        242.76   \n",
       "2          31.24  3543000            6.39    13767000  90970000        164.15   \n",
       "3          47.28  2784670           11.18     8991643  67556006        271.23   \n",
       "4          45.58  2783197           12.68     7221385  54320996        247.48   \n",
       "\n",
       "        Boro  \n",
       "0  Manhattan  \n",
       "1  Manhattan  \n",
       "2  Manhattan  \n",
       "3  Manhattan  \n",
       "4  Manhattan  "
      ]
     },
     "execution_count": 5,
     "metadata": {},
     "output_type": "execute_result"
    }
   ],
   "source": [
    "data.head()"
   ]
  },
  {
   "cell_type": "code",
   "execution_count": 21,
   "id": "behavioral-vatican",
   "metadata": {},
   "outputs": [
    {
     "data": {
      "text/plain": [
       "(array([222., 674., 593., 269., 350., 351., 139.,  20.,   5.,   3.]),\n",
       " array([ 10.66 ,  49.532,  88.404, 127.276, 166.148, 205.02 , 243.892,\n",
       "        282.764, 321.636, 360.508, 399.38 ]),\n",
       " <BarContainer object of 10 artists>)"
      ]
     },
     "execution_count": 21,
     "metadata": {},
     "output_type": "execute_result"
    },
    {
     "data": {
      "image/png": "[encoded data removed]",
      "text/plain": [
       "<Figure size 432x288 with 1 Axes>"
      ]
     },
     "metadata": {
      "needs_background": "light"
     },
     "output_type": "display_data"
    }
   ],
   "source": [
    "plt.hist(data['ValueperSqFt'])"
   ]
  },
  {
   "cell_type": "code",
   "execution_count": 13,
   "id": "sharing-block",
   "metadata": {},
   "outputs": [
    {
     "data": {
      "text/plain": [
       "(array([2., 0., 7., 0., 0., 0., 1., 1., 6., 1., 0., 0., 2., 0., 2., 0., 0.,\n",
       "        0., 0., 1., 0., 0., 0., 1., 0., 0., 0., 0., 1., 1.]),\n",
       " array([33.74      , 34.59533333, 35.45066667, 36.306     , 37.16133333,\n",
       "        38.01666667, 38.872     , 39.72733333, 40.58266667, 41.438     ,\n",
       "        42.29333333, 43.14866667, 44.004     , 44.85933333, 45.71466667,\n",
       "        46.57      , 47.42533333, 48.28066667, 49.136     , 49.99133333,\n",
       "        50.84666667, 51.702     , 52.55733333, 53.41266667, 54.268     ,\n",
       "        55.12333333, 55.97866667, 56.834     , 57.68933333, 58.54466667,\n",
       "        59.4       ]),\n",
       " <BarContainer object of 30 artists>)"
      ]
     },
     "execution_count": 13,
     "metadata": {},
     "output_type": "execute_result"
    },
    {
     "data": {
      "image/png": "[encoded data removed]",
      "text/plain": [
       "<Figure size 432x288 with 1 Axes>"
      ]
     },
     "metadata": {
      "needs_background": "light"
     },
     "output_type": "display_data"
    }
   ],
   "source": [
    "plt.hist(data[data['Boro']=='Manhattan']['ValueperSqFt'], bins=60,alpha=0.5)\n",
    "plt.hist(data[data['Boro']=='Brooklyn']['ValueperSqFt'], bins=60,alpha=0.5)\n",
    "plt.hist(data[data['Boro']=='Queens']['ValueperSqFt'], bins=60,alpha=0.5)\n",
    "plt.hist(data[data['Boro']=='Bronx']['ValueperSqFt'], bins=60,alpha=0.5)\n",
    "plt.hist(data[data['Boro']=='Staten Island']['ValueperSqFt'], bins=60,alpha=0.5)\n",
    "\n"
   ]
  },
  {
   "cell_type": "code",
   "execution_count": 10,
   "id": "connected-tradition",
   "metadata": {},
   "outputs": [
    {
     "data": {
      "text/plain": [
       "array(['Manhattan', 'Brooklyn', 'Queens', 'Bronx', 'Staten Island'],\n",
       "      dtype=object)"
      ]
     },
     "execution_count": 10,
     "metadata": {},
     "output_type": "execute_result"
    }
   ],
   "source": [
    "data['Boro'].unique()"
   ]
  },
  {
   "cell_type": "code",
   "execution_count": 16,
   "id": "roman-habitat",
   "metadata": {},
   "outputs": [
    {
     "data": {
      "text/plain": [
       "(array([  5.,   8.,  31.,  66., 112., 138., 110., 147., 158., 121., 202.,\n",
       "         95., 114., 112.,  70.,  61.,  35.,  36.,  76.,  61.,  67.,  92.,\n",
       "         71.,  62.,  58.,  71.,  88.,  69.,  67.,  56.,  65.,  34.,  20.,\n",
       "         12.,   8.,   6.,   6.,   4.,   1.,   3.,   2.,   1.,   1.,   0.,\n",
       "          1.,   1.,   0.,   0.,   0.,   2.]),\n",
       " array([ 10.66  ,  18.4344,  26.2088,  33.9832,  41.7576,  49.532 ,\n",
       "         57.3064,  65.0808,  72.8552,  80.6296,  88.404 ,  96.1784,\n",
       "        103.9528, 111.7272, 119.5016, 127.276 , 135.0504, 142.8248,\n",
       "        150.5992, 158.3736, 166.148 , 173.9224, 181.6968, 189.4712,\n",
       "        197.2456, 205.02  , 212.7944, 220.5688, 228.3432, 236.1176,\n",
       "        243.892 , 251.6664, 259.4408, 267.2152, 274.9896, 282.764 ,\n",
       "        290.5384, 298.3128, 306.0872, 313.8616, 321.636 , 329.4104,\n",
       "        337.1848, 344.9592, 352.7336, 360.508 , 368.2824, 376.0568,\n",
       "        383.8312, 391.6056, 399.38  ]),\n",
       " <BarContainer object of 50 artists>)"
      ]
     },
     "execution_count": 16,
     "metadata": {},
     "output_type": "execute_result"
    },
    {
     "data": {
      "image/png": "[encoded data removed]",
      "text/plain": [
       "<Figure size 432x288 with 1 Axes>"
      ]
     },
     "metadata": {
      "needs_background": "light"
     },
     "output_type": "display_data"
    }
   ],
   "source": [
    "plt.hist(data['ValueperSqFt'], bins=50)"
   ]
  },
  {
   "cell_type": "code",
   "execution_count": 17,
   "id": "positive-depression",
   "metadata": {},
   "outputs": [
    {
     "data": {
      "text/plain": [
       "(array([ 1.,  1.,  3.,  6.,  5., 14.,  7., 15.,  8., 17., 14., 17., 22.,\n",
       "        20., 38., 47., 45., 45., 49., 42., 46., 76., 51., 20., 30., 23.,\n",
       "        10., 17.,  3.,  4.,  3.,  3.,  2.,  1.,  3.,  2.,  0.,  1.,  0.,\n",
       "         3.,  0.,  0.,  0.,  0.,  0.,  0.,  0.,  0.,  0.,  0.,  1.,  1.,\n",
       "         0.,  0.,  0.,  0.,  0.,  0.,  0.,  1.]),\n",
       " array([ 16.12      ,  19.60133333,  23.08266667,  26.564     ,\n",
       "         30.04533333,  33.52666667,  37.008     ,  40.48933333,\n",
       "         43.97066667,  47.452     ,  50.93333333,  54.41466667,\n",
       "         57.896     ,  61.37733333,  64.85866667,  68.34      ,\n",
       "         71.82133333,  75.30266667,  78.784     ,  82.26533333,\n",
       "         85.74666667,  89.228     ,  92.70933333,  96.19066667,\n",
       "         99.672     , 103.15333333, 106.63466667, 110.116     ,\n",
       "        113.59733333, 117.07866667, 120.56      , 124.04133333,\n",
       "        127.52266667, 131.004     , 134.48533333, 137.96666667,\n",
       "        141.448     , 144.92933333, 148.41066667, 151.892     ,\n",
       "        155.37333333, 158.85466667, 162.336     , 165.81733333,\n",
       "        169.29866667, 172.78      , 176.26133333, 179.74266667,\n",
       "        183.224     , 186.70533333, 190.18666667, 193.668     ,\n",
       "        197.14933333, 200.63066667, 204.112     , 207.59333333,\n",
       "        211.07466667, 214.556     , 218.03733333, 221.51866667,\n",
       "        225.        ]),\n",
       " <BarContainer object of 60 artists>)"
      ]
     },
     "execution_count": 17,
     "metadata": {},
     "output_type": "execute_result"
    },
    {
     "data": {
      "image/png": "[encoded data removed]",
      "text/plain": [
       "<Figure size 432x288 with 1 Axes>"
      ]
     },
     "metadata": {
      "needs_background": "light"
     },
     "output_type": "display_data"
    }
   ],
   "source": [
    "plt.hist(data[data['Boro']=='Brooklyn']['ValueperSqFt'], bins=60,alpha=0.5)\n"
   ]
  },
  {
   "cell_type": "code",
   "execution_count": 20,
   "id": "congressional-institute",
   "metadata": {},
   "outputs": [
    {
     "data": {
      "text/plain": [
       "(array([ 6., 10., 14., 12.,  8.,  4.,  2.,  9.,  2.,  2.]),\n",
       " array([23.86 , 29.954, 36.048, 42.142, 48.236, 54.33 , 60.424, 66.518,\n",
       "        72.612, 78.706, 84.8  ]),\n",
       " <BarContainer object of 10 artists>)"
      ]
     },
     "execution_count": 20,
     "metadata": {},
     "output_type": "execute_result"
    },
    {
     "data": {
      "image/png": "[encoded data removed]",
      "text/plain": [
       "<Figure size 432x288 with 1 Axes>"
      ]
     },
     "metadata": {
      "needs_background": "light"
     },
     "output_type": "display_data"
    }
   ],
   "source": [
    "plt.hist(data[data['Boro']=='Bronx']['ValueperSqFt'], bins=10,alpha=0.5)\n"
   ]
  },
  {
   "cell_type": "code",
   "execution_count": 19,
   "id": "alpine-favor",
   "metadata": {},
   "outputs": [
    {
     "name": "stdout",
     "output_type": "stream",
     "text": [
      "<class 'pandas.core.frame.DataFrame'>\n",
      "RangeIndex: 2626 entries, 0 to 2625\n",
      "Data columns (total 13 columns):\n",
      " #   Column          Non-Null Count  Dtype  \n",
      "---  ------          --------------  -----  \n",
      " 0   Neiborhood      2626 non-null   object \n",
      " 1   Class           2626 non-null   object \n",
      " 2   Units           2626 non-null   int64  \n",
      " 3   YearBuilt       2530 non-null   float64\n",
      " 4   SqFt            2626 non-null   int64  \n",
      " 5   Income          2626 non-null   int64  \n",
      " 6   IncomeperSqFt   2626 non-null   float64\n",
      " 7   Expence         2626 non-null   int64  \n",
      " 8   ExpencePerSqFt  2626 non-null   float64\n",
      " 9    NetIncome      2626 non-null   int64  \n",
      " 10  Value           2626 non-null   int64  \n",
      " 11  ValueperSqFt    2626 non-null   float64\n",
      " 12  Boro            2626 non-null   object \n",
      "dtypes: float64(4), int64(6), object(3)\n",
      "memory usage: 266.8+ KB\n"
     ]
    }
   ],
   "source": [
    "data.info()"
   ]
  },
  {
   "cell_type": "code",
   "execution_count": null,
   "id": "sporting-ethiopia",
   "metadata": {},
   "outputs": [],
   "source": []
  }
 ],
 "metadata": {
  "kernelspec": {
   "display_name": "Python 3",
   "language": "python",
   "name": "python3"
  },
  "language_info": {
   "codemirror_mode": {
    "name": "ipython",
    "version": 3
   },
   "file_extension": ".py",
   "mimetype": "text/x-python",
   "name": "python",
   "nbconvert_exporter": "python",
   "pygments_lexer": "ipython3",
   "version": "3.7.9"
  }
 },
 "nbformat": 4,
 "nbformat_minor": 5
}
